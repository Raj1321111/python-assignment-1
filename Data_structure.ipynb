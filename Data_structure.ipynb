{
  "nbformat": 4,
  "nbformat_minor": 0,
  "metadata": {
    "colab": {
      "provenance": [],
      "authorship_tag": "ABX9TyMxno850HlchNy8h0MGJAgf",
      "include_colab_link": true
    },
    "kernelspec": {
      "name": "python3",
      "display_name": "Python 3"
    },
    "language_info": {
      "name": "python"
    }
  },
  "cells": [
    {
      "cell_type": "markdown",
      "metadata": {
        "id": "view-in-github",
        "colab_type": "text"
      },
      "source": [
        "<a href=\"https://colab.research.google.com/github/Raj1321111/python-assignment-1/blob/main/Data_structure.ipynb\" target=\"_parent\"><img src=\"https://colab.research.google.com/assets/colab-badge.svg\" alt=\"Open In Colab\"/></a>"
      ]
    },
    {
      "cell_type": "markdown",
      "source": [
        "1.What are data structures, and why are they important?\n",
        "ans- Data structures act like containers that determine how data is stored and accessed, directly affecting the performance of programs.\n",
        "ex:- array,stack,queue,tree,etc..."
      ],
      "metadata": {
        "id": "1nMCcdo1vNNl"
      }
    },
    {
      "cell_type": "markdown",
      "source": [],
      "metadata": {
        "id": "cC0FpJWrwAPM"
      }
    },
    {
      "cell_type": "markdown",
      "source": [
        "2.Explain the difference between mutable and immutable data types with example?\n",
        "ans-*Mutable data types* can be changed after creation, meaning their content can be updated without creating a new object.\n",
        "\n",
        "* Example: *List* → `nums = [1, 2, 3]` → `nums[0] = 10` changes list to `[10, 2, 3]`.\n",
        "\n",
        "*Immutable data types* cannot be changed after creation; any modification creates a new object.\n",
        "\n",
        "* Example: *String*→ `name = \"Ram\"` → `name = \"Sam\"` creates a new string.\n",
        "\n",
        " Lists, sets, dicts = mutable; strings, tuples, numbers = immutable.\n"
      ],
      "metadata": {
        "id": "zSxFkadkwETa"
      }
    },
    {
      "cell_type": "markdown",
      "source": [
        "3.What are the main differences between lists and tuples in Python?\n",
        "ans-In Python, *lists* and *tuples* both store collections of items, but they differ in flexibility. A **list** is *mutable*, meaning its elements can be added, removed, or changed (`marks = [80, 90]`, then `marks[0] = 70`). A *tuple* is *immutable*, so once created, its elements cannot be modified (`data = (1, 2, 3)`). Lists use `[]`, while tuples use `()`.\n",
        "\n",
        " Tuples are faster and often used for fixed data, while lists are used when changes are needed.\n",
        "\n"
      ],
      "metadata": {
        "id": "4osL5SRUw5kI"
      }
    },
    {
      "cell_type": "markdown",
      "source": [
        "4.Describe how dictionaries store data?\n",
        "ans-In Python, a *dictionary* stores data as *key–value pairs*. Each key is unique and works like a label, while the value is the data linked to it. For example: `student = {\"name\": \"Amit\", \"age\": 20}`. Here, `\"name\"` and `\"age\"` are keys, and `\"Amit\"`, `20` are values. Dictionaries use a *hashing technique*, which allows very fast lookups, insertions, and deletions.\n"
      ],
      "metadata": {
        "id": "vh7eafQUxhiQ"
      }
    },
    {
      "cell_type": "markdown",
      "source": [
        "5.Why might you use a set instead of a list in Python?\n",
        "ans-we might use a *set* instead of a *list* when we need to store *unique items* and don’t care about order. Sets automatically remove duplicates, while lists allow them. For example, `set([1, 2, 2, 3])` becomes `{1, 2, 3}`. Sets are also faster than lists for operations like checking membership (`in`), making them useful for quick lookups.\n"
      ],
      "metadata": {
        "id": "0rMqfxt9x7s8"
      }
    },
    {
      "cell_type": "markdown",
      "source": [
        "6. What is a string in Python, and how is it different from a list?\n",
        "ans- In Python, a *string* is a sequence of characters enclosed in quotes, like `\"hello\"`. A *list* is a collection of items, which can be numbers, strings, or even other lists, written in square brackets like `[1, \"hi\", 3]`.\n",
        "\n",
        "The key difference is: *strings are immutable* (cannot be changed after creation), while **lists are mutable** (their elements can be updated, added, or removed).\n"
      ],
      "metadata": {
        "id": "4lEkVF8GyfaQ"
      }
    },
    {
      "cell_type": "markdown",
      "source": [
        "7.How do tuples ensure data integrity in Python?\n",
        "ans-*Tuples ensure data integrity* in Python because they are *immutable*, meaning once a tuple is created, its values cannot be changed, added, or removed. This immutability prevents accidental modifications, making data more secure and reliable. For example, if coordinates are stored as `(10, 20)`, they remain fixed, ensuring the data stays consistent throughout the program.\n",
        " Tuples are best when data must stay unchanged.\n"
      ],
      "metadata": {
        "id": "F9V6avaCy28X"
      }
    },
    {
      "cell_type": "markdown",
      "source": [
        "8.What is a hash table, and how does it relate to dictionaries in Python?\n",
        "ans-A *hash table* is a data structure that stores data in *key–value pairs* and uses a *hash function* to quickly locate the value associated with a key.\n",
        "\n",
        "Example: `student = {\"name\": \"Amit\", \"age\": 20}` – here `\"name\"` and `\"age\"` are keys, and Python uses hashing to find their values efficiently.\n"
      ],
      "metadata": {
        "id": "TEZXiSaIzRFY"
      }
    },
    {
      "cell_type": "markdown",
      "source": [
        "9.Can lists contain different data types in Python?\n",
        "ans-Yes, *lists in Python can contain different data types*. A single list can hold integers, strings, floats, or even other lists together.\n",
        "\n",
        "Example my_list = [10, \"hello\", 3.5, [1, 2]]\n",
        "```\n",
        "Here, `10` is an integer, `\"hello\"` is a string, `3.5` is a float, and `[1, 2]` is another list. This makes lists very flexible for storing mixed data.\n"
      ],
      "metadata": {
        "id": "MhWKDYkFzsTr"
      }
    },
    {
      "cell_type": "markdown",
      "source": [
        "10.Explain why strings are immutable in Python?\n",
        "ans-Strings are *immutable* in Python because once a string is created, its content cannot be changed. This design helps in *data safety, consistency, and efficiency*. For example, if `\"hello\"` is stored in memory, modifying it would require creating a new string instead of changing the old one.\n",
        "\n",
        " Immutability allows strings to be *used as dictionary keys* and ensures *thread safety* in programs.\n"
      ],
      "metadata": {
        "id": "lkpaEna70Mji"
      }
    },
    {
      "cell_type": "markdown",
      "source": [
        "11.What advantages do dictionaries offer over lists for certain tasks?\n",
        "ans-Dictionaries offer several advantages over lists for certain tasks:\n",
        "\n",
        "1. *Fast lookups:* Accessing a value by key is much faster than searching through a list.\n",
        "2. *Key–value pairing:* Data can be stored with meaningful keys instead of relying on index positions.\n",
        "3. *No duplicate keys:* Each key is unique, preventing accidental repetition.\n",
        "4. *Flexible data retrieval:* You can directly access, add, or remove items using keys.\n",
        "\n",
        "Example: Storing a student’s info: `{\"name\": \"Amit\", \"age\": 20}` is clearer and faster than using a list like `[\"Amit\", 20]`.\n"
      ],
      "metadata": {
        "id": "-bU4VVUv0hyt"
      }
    },
    {
      "cell_type": "markdown",
      "source": [
        "12. Describe a scenario where using a tuple would be preferable over a list?\n",
        "ans-A *tuple* is preferable over a list when you want to store data that *should not change*, ensuring it stays safe and consistent.\n",
        "\n",
        "*Example scenario:* Storing the **latitude and longitude** of a location:\n",
        "\n",
        "```python\n",
        "location = (28.6139, 77.2090)\n",
        "```\n",
        "\n",
        "Since coordinates shouldn’t be accidentally modified, using a tuple prevents changes."
      ],
      "metadata": {
        "id": "MZUV9hgv03Tl"
      }
    },
    {
      "cell_type": "markdown",
      "source": [
        "13.How do sets handle duplicate values in Python?\n",
        "ans- *sets automatically remove duplicate values*. When you add elements to a set, only **unique items** are stored.\n",
        "\n",
        "Example:\n",
        "\n",
        "```python\n",
        "numbers = [1, 2, 2, 3, 3, 3]\n",
        "unique_numbers = set(numbers)\n",
        "print(unique_numbers)  # Output: {1, 2, 3}\n",
        "```\n",
        "\n"
      ],
      "metadata": {
        "id": "c4rdQQd31NMm"
      }
    },
    {
      "cell_type": "markdown",
      "source": [
        "14.How does the “in” keyword work differently for lists and dictionaries?\n",
        "ans-The **`in` keyword** checks for membership, but it works differently for lists and dictionaries:\n",
        "\n",
        "* *Lists:* `in` checks if a *value exists* in the list.\n",
        "\n",
        "  ```python\n",
        "  nums = [1, 2, 3]\n",
        "  print(2 in nums)  # True\n",
        "  ```\n",
        "\n",
        "* *Dictionaries:* `in` checks if a *key exists* in the dictionary, *not the value*\n",
        "\n",
        "  ```python\n",
        "  student = {\"name\": \"Amit\", \"age\": 20}\n",
        "  print(\"name\" in student)  # True\n",
        "  print(\"Amit\" in student)   # False\n",
        "  ```\n",
        "\n",
        "So, lists focus on values, while dictionaries focus on keys.\n"
      ],
      "metadata": {
        "id": "5qXhkq8M1evZ"
      }
    },
    {
      "cell_type": "markdown",
      "source": [
        "15.Can you modify the elements of a tuple? Explain why or why not?\n",
        "ans-No, you *cannot modify the elements of a tuple* because tuples are *immutable*. Once a tuple is created, its content cannot be changed, added to, or removed.\n",
        "\n",
        "Example:\n",
        "\n",
        "```python\n",
        "data = (1, 2, 3)\n",
        "data[0] = 10  # This will cause an error\n",
        "```\n",
        "\n",
        "Immutability ensures *data safety and consistency*, allows tuples to be used as dictionary keys, and makes them faster than lists for fixed data.\n"
      ],
      "metadata": {
        "id": "OwlTRSu519bS"
      }
    },
    {
      "cell_type": "markdown",
      "source": [
        "16.What is a nested dictionary, and give an example of its use case?\n",
        "ans-A *nested dictionary* is a dictionary that contains another dictionary (or dictionaries) as its values. This allows you to *organize complex, hierarchical data*.\n",
        "\n",
        "*Example use case:* Storing student information with multiple attributes:\n",
        "\n",
        "```python\n",
        "students = {\n",
        "    \"Amit\": {\"age\": 20, \"grade\": \"A\"},\n",
        "    \"Sara\": {\"age\": 19, \"grade\": \"B\"}\n",
        "}\n",
        "```\n",
        "\n",
        "Here, each student’s name is a key, and the value is another dictionary holding details like age and grade..\n"
      ],
      "metadata": {
        "id": "R5QeCfV82QVI"
      }
    },
    {
      "cell_type": "markdown",
      "source": [
        "17.Describe the time complexity of accessing elements in a dictionary?\n",
        "ans-In a *dictionary*, accessing an element by its key is generally *O(1)*, which means it takes **constant time** regardless of the number of items.\n",
        "\n",
        "This is because Python dictionaries use a *hash table* internally. The key is hashed to quickly locate the corresponding value, so lookups, insertions, and deletions are very fast on average.\n",
        "\n"
      ],
      "metadata": {
        "id": "g5PCfbIX2lJ5"
      }
    },
    {
      "cell_type": "markdown",
      "source": [
        "18. In what situations are lists preferred over dictionaries?\n",
        "ans-Order matters: Lists maintain the order of elements, so you can access items by index.\n",
        "\n",
        "Simple collections: When you just need a sequence of items without key–value mapping.\n",
        "\n",
        "Duplicates are allowed: Lists can store repeated values, while dictionary keys must be unique.\n",
        "\n",
        "Iteration by position: When you want to loop through elements sequentially"
      ],
      "metadata": {
        "id": "TvYCFMNm26na"
      }
    },
    {
      "cell_type": "markdown",
      "source": [
        "19. Why are dictionaries considered unordered, and how does that affect data retrieval?\n",
        "ans-Dictionaries in Python are considered *unordered* because, historically, they did not maintain the order in which items were added. This means you *cannot rely on the position** of items; you must access data **only by keys*.\n",
        "\n",
        "*Effect on data retrieval:*\n",
        "\n",
        "* You cannot use an index like in a list.\n",
        "* Accessing values requires knowing the key:\n",
        "\n",
        "```python\n",
        "student = {\"name\": \"Amit\", \"age\": 20}\n",
        "print(student[\"name\"])  # Correct\n",
        "# print(student[0])     # Wrong\n",
        "```\n",
        "\n"
      ],
      "metadata": {
        "id": "AcQ7sKe-3NR1"
      }
    },
    {
      "cell_type": "markdown",
      "source": [
        "20. Explain the difference between a list and a dictionary in terms of data retrieva?\n",
        "ans-The difference in *data retrieval* is:\n",
        "\n",
        "* *List:* Access items by *index* (position).\n",
        "\n",
        "  ```python\n",
        "  nums = [10, 20, 30]\n",
        "  print(nums[1])  # 20\n",
        "  ```\n",
        "* *Dictionary:* Access items by **key**, not position.\n",
        "\n",
        "  ```python\n",
        "  student = {\"name\": \"Amit\", \"age\": 20}\n",
        "  print(student[\"name\"])  # Amit\n",
        "  ```\n",
        "\n",
        " Lists are for ordered data; dictionaries are for *key–value lookups*.\n"
      ],
      "metadata": {
        "id": "k2fVF-Jd3sIL"
      }
    },
    {
      "cell_type": "code",
      "source": [
        "#Write a code to create a string with your name and print it\n",
        "\n",
        "name=\"raj  singh\"\n",
        "print(name)"
      ],
      "metadata": {
        "colab": {
          "base_uri": "https://localhost:8080/"
        },
        "id": "YKJeyiwD3_9i",
        "outputId": "03838d52-0d5f-4834-b265-3a71b5fd6066"
      },
      "execution_count": null,
      "outputs": [
        {
          "output_type": "stream",
          "name": "stdout",
          "text": [
            "raj  singh\n"
          ]
        }
      ]
    },
    {
      "cell_type": "code",
      "source": [
        "#Write a code to find the length of the string \"Hello World\"\n",
        "x=\"HELLO WORLD\"\n",
        "print(len(x))"
      ],
      "metadata": {
        "colab": {
          "base_uri": "https://localhost:8080/"
        },
        "id": "SjML41SZ5Cl1",
        "outputId": "e395a1b5-df31-422f-cfa4-7d5b9d932be2"
      },
      "execution_count": null,
      "outputs": [
        {
          "output_type": "stream",
          "name": "stdout",
          "text": [
            "11\n"
          ]
        }
      ]
    },
    {
      "cell_type": "code",
      "source": [
        "#Write a code to slice the first 3 characters from the string \"Python Programming\"\n",
        "\n",
        "x=\"python programming\"\n",
        "print(x[0:3])"
      ],
      "metadata": {
        "colab": {
          "base_uri": "https://localhost:8080/"
        },
        "id": "d3DLgb-d6kMu",
        "outputId": "7e61a31e-bab6-42c3-b33c-fe9a1ab61314"
      },
      "execution_count": null,
      "outputs": [
        {
          "output_type": "stream",
          "name": "stdout",
          "text": [
            "pyt\n"
          ]
        }
      ]
    },
    {
      "cell_type": "code",
      "source": [
        " #Write a code to convert the string \"hello\" to uppercase\n",
        "\n",
        " b=\"hello\"\n",
        " print(b.upper())"
      ],
      "metadata": {
        "colab": {
          "base_uri": "https://localhost:8080/"
        },
        "id": "IY6xb6lJ6-TZ",
        "outputId": "afdca254-62d8-4df7-c08e-7baddc4ed870"
      },
      "execution_count": null,
      "outputs": [
        {
          "output_type": "stream",
          "name": "stdout",
          "text": [
            "HELLO\n"
          ]
        }
      ]
    },
    {
      "cell_type": "code",
      "source": [
        "# Write a code to replace the word \"apple\" with \"orange\" in the string \"I like apple\"\n",
        "\n",
        "k=\"i like apple\"\n",
        "print(k.replace(\"apple\",\"orange\"))"
      ],
      "metadata": {
        "colab": {
          "base_uri": "https://localhost:8080/"
        },
        "id": "fRIQE_cK8J6W",
        "outputId": "c32a6c19-a992-4d64-8484-91929facb206"
      },
      "execution_count": null,
      "outputs": [
        {
          "output_type": "stream",
          "name": "stdout",
          "text": [
            "i like orange\n"
          ]
        }
      ]
    },
    {
      "cell_type": "code",
      "source": [
        "# Write a code to create a list with numbers 1 to 5 and print it\n",
        "\n",
        "list=[1,2,3,4,5,6]\n",
        "print(list)"
      ],
      "metadata": {
        "id": "dyRHFELd8wyn",
        "colab": {
          "base_uri": "https://localhost:8080/"
        },
        "outputId": "f07f649d-ef1f-49f6-98f5-a847effa8050"
      },
      "execution_count": 2,
      "outputs": [
        {
          "output_type": "stream",
          "name": "stdout",
          "text": [
            "[1, 2, 3, 4, 5, 6]\n"
          ]
        }
      ]
    },
    {
      "cell_type": "code",
      "source": [
        "# Write a code to append the number 10 to the list [1, 2, 3, 4]\n",
        "\n",
        "list=[1,2,3,4]\n",
        "list.append(10)\n",
        "print(list)"
      ],
      "metadata": {
        "colab": {
          "base_uri": "https://localhost:8080/"
        },
        "id": "KI_tBEwl1k2v",
        "outputId": "40b41a73-6c45-4298-9a68-06d195ea35bf"
      },
      "execution_count": 3,
      "outputs": [
        {
          "output_type": "stream",
          "name": "stdout",
          "text": [
            "[1, 2, 3, 4, 10]\n"
          ]
        }
      ]
    },
    {
      "cell_type": "code",
      "source": [
        "# Write a code to remove the number 3 from the list [1, 2, 3, 4, 5]\n",
        "\n",
        "list=[1,2,3,4,5,6]\n",
        "list.remove(3)\n",
        "print(list)"
      ],
      "metadata": {
        "colab": {
          "base_uri": "https://localhost:8080/"
        },
        "id": "CzzmTrtD1vzF",
        "outputId": "c727d527-4f5c-46b8-f05d-8f2af6f8f3f6"
      },
      "execution_count": 6,
      "outputs": [
        {
          "output_type": "stream",
          "name": "stdout",
          "text": [
            "[1, 2, 4, 5, 6]\n"
          ]
        }
      ]
    },
    {
      "cell_type": "code",
      "source": [
        " # Write a code to access the second element in the list ['a', 'b', 'c', 'd']\n",
        "\n",
        " list=['a','b','c','d']\n",
        " print(list[1])"
      ],
      "metadata": {
        "colab": {
          "base_uri": "https://localhost:8080/"
        },
        "id": "z5v1Ap4U2jz3",
        "outputId": "a657f569-a98d-4dd0-e5e7-31ca2e86e02e"
      },
      "execution_count": 7,
      "outputs": [
        {
          "output_type": "stream",
          "name": "stdout",
          "text": [
            "b\n"
          ]
        }
      ]
    },
    {
      "cell_type": "code",
      "source": [
        "# Write a code to reverse the list [10, 20, 30, 40, 50].\n",
        "\n",
        "list=[10,20,30,40,50]\n",
        "list.reverse()\n",
        "print(list)\n",
        "\n"
      ],
      "metadata": {
        "colab": {
          "base_uri": "https://localhost:8080/"
        },
        "id": "4-x0xE8p22zT",
        "outputId": "de0fe95b-0b67-4c80-f0d0-a6b81b676169"
      },
      "execution_count": 8,
      "outputs": [
        {
          "output_type": "stream",
          "name": "stdout",
          "text": [
            "[50, 40, 30, 20, 10]\n"
          ]
        }
      ]
    },
    {
      "cell_type": "code",
      "source": [
        "1. # Write a code to create a tuple with the elements 100, 200, 300 and print it.\n",
        "\n",
        "tuple=(100,200,300)\n",
        "print(tuple)\n"
      ],
      "metadata": {
        "colab": {
          "base_uri": "https://localhost:8080/"
        },
        "id": "FJ8bKpVX3Shx",
        "outputId": "6902ea37-1175-4ac7-81f7-2da4dc47d40e"
      },
      "execution_count": 9,
      "outputs": [
        {
          "output_type": "stream",
          "name": "stdout",
          "text": [
            "(100, 200, 300)\n"
          ]
        }
      ]
    },
    {
      "cell_type": "code",
      "source": [
        " # Write a code to access the second-to-last element of the tuple ('red', 'green', 'blue', 'yellow').\n",
        "\n",
        " tuple=('red','green','blue','yellow')\n",
        " print(tuple[-2])"
      ],
      "metadata": {
        "colab": {
          "base_uri": "https://localhost:8080/"
        },
        "id": "qdFg0J2q2_C1",
        "outputId": "f882d000-231d-4fe8-96e5-1140e9710ede"
      },
      "execution_count": 11,
      "outputs": [
        {
          "output_type": "stream",
          "name": "stdout",
          "text": [
            "blue\n"
          ]
        }
      ]
    },
    {
      "cell_type": "code",
      "source": [
        "# Write a code to find the minimum number in the tuple (10, 20, 5, 15).\n",
        "\n",
        "tuple=(10,20,5,15)\n",
        "print(min(tuple))"
      ],
      "metadata": {
        "colab": {
          "base_uri": "https://localhost:8080/"
        },
        "id": "7Pv4KwFz37Cl",
        "outputId": "cb26d433-2316-432d-a94a-a998777853ff"
      },
      "execution_count": 13,
      "outputs": [
        {
          "output_type": "stream",
          "name": "stdout",
          "text": [
            "5\n"
          ]
        }
      ]
    },
    {
      "cell_type": "code",
      "source": [
        "# Write a code to find the index of the element \"cat\" in the tuple ('dog', 'cat', 'rabbit').\n",
        "\n",
        "tuple=('dog','cat','rabbit')\n",
        "print(tuple.index('cat'))"
      ],
      "metadata": {
        "colab": {
          "base_uri": "https://localhost:8080/"
        },
        "id": "HxS6KiOc4lud",
        "outputId": "dd6a9b97-2305-40e6-ec54-830907168491"
      },
      "execution_count": 16,
      "outputs": [
        {
          "output_type": "stream",
          "name": "stdout",
          "text": [
            "1\n"
          ]
        }
      ]
    },
    {
      "cell_type": "code",
      "source": [
        "# Write a code to create a tuple containing three different fruits and check if \"kiwi\" is in it.\n",
        "\n",
        "tuple=('apple','lemon','kiwi')\n",
        "print('kiwi' in tuple)\n"
      ],
      "metadata": {
        "colab": {
          "base_uri": "https://localhost:8080/"
        },
        "id": "VtahvT1O6W2W",
        "outputId": "cdfd3157-5d51-4604-834a-ca702dff62f2"
      },
      "execution_count": 19,
      "outputs": [
        {
          "output_type": "stream",
          "name": "stdout",
          "text": [
            "True\n"
          ]
        }
      ]
    },
    {
      "cell_type": "code",
      "source": [
        "# Write a code to create a set with the elements 'a', 'b', 'c' and print it.\n",
        "\n",
        "set={'a','b','c'}\n",
        "print(set)"
      ],
      "metadata": {
        "colab": {
          "base_uri": "https://localhost:8080/"
        },
        "id": "HbuIj0us7P6m",
        "outputId": "a1bb6480-44ed-47b7-fcee-2aca61d0185d"
      },
      "execution_count": 21,
      "outputs": [
        {
          "output_type": "stream",
          "name": "stdout",
          "text": [
            "{'b', 'a', 'c'}\n"
          ]
        }
      ]
    },
    {
      "cell_type": "code",
      "source": [
        " # Write a code to clear all elements from the set {1, 2, 3, 4, 5}.\n",
        "\n",
        " set={1,2,3,4,5}\n",
        " set.clear()\n",
        " print(set)"
      ],
      "metadata": {
        "colab": {
          "base_uri": "https://localhost:8080/"
        },
        "id": "eXN5Jz4N7qwE",
        "outputId": "287191bf-1320-4714-8ba4-60b795288c9e"
      },
      "execution_count": 22,
      "outputs": [
        {
          "output_type": "stream",
          "name": "stdout",
          "text": [
            "set()\n"
          ]
        }
      ]
    },
    {
      "cell_type": "code",
      "source": [
        "# Write a code to remove the element 4 from the set {1, 2, 3, 4}.\n",
        "\n",
        "set={1,2,3,4}\n",
        "set.remove(4)\n",
        "print(set)\n"
      ],
      "metadata": {
        "colab": {
          "base_uri": "https://localhost:8080/"
        },
        "id": "W95Zi44r75ce",
        "outputId": "a06fed70-3587-485e-fafe-f539677c4797"
      },
      "execution_count": 23,
      "outputs": [
        {
          "output_type": "stream",
          "name": "stdout",
          "text": [
            "{1, 2, 3}\n"
          ]
        }
      ]
    },
    {
      "cell_type": "code",
      "source": [
        "# Write a code to find the union of two sets {1, 2, 3} and {3, 4, 5}.\n",
        "\n",
        "s1={1,2,3}\n",
        "s2={3,4,5}\n",
        "print(s1.union(s2))\n"
      ],
      "metadata": {
        "colab": {
          "base_uri": "https://localhost:8080/"
        },
        "id": "8PrP7Etv8LVx",
        "outputId": "d8f75c65-54f2-4e73-bdc9-fbd36c0c9bc7"
      },
      "execution_count": 24,
      "outputs": [
        {
          "output_type": "stream",
          "name": "stdout",
          "text": [
            "{1, 2, 3, 4, 5}\n"
          ]
        }
      ]
    },
    {
      "cell_type": "code",
      "source": [
        "# Write a code to find the intersection of two sets {1, 2, 3} and {2, 3, 4}.\n",
        "\n",
        "s3={1,2,3}\n",
        "s4={2,3,4}\n",
        "print(s3.intersection(s4))\n"
      ],
      "metadata": {
        "colab": {
          "base_uri": "https://localhost:8080/"
        },
        "id": "uN-i1Fl_83JF",
        "outputId": "12277253-9552-4116-ae1d-d73d7cbcee99"
      },
      "execution_count": 25,
      "outputs": [
        {
          "output_type": "stream",
          "name": "stdout",
          "text": [
            "{2, 3}\n"
          ]
        }
      ]
    },
    {
      "cell_type": "code",
      "source": [
        "# Write a code to create a dictionary with the keys \"name\", \"age\", and \"city\", and print it.\n",
        "\n",
        "dict={\"name\":\"raj\",\"age\":22,\"city\":\"varanasi\"}\n",
        "print(dict)"
      ],
      "metadata": {
        "colab": {
          "base_uri": "https://localhost:8080/"
        },
        "id": "O2v-3Sge9T7h",
        "outputId": "8ff63192-e90b-4127-f34f-c06f10d193f8"
      },
      "execution_count": 26,
      "outputs": [
        {
          "output_type": "stream",
          "name": "stdout",
          "text": [
            "{'name': 'raj', 'age': 22, 'city': 'varanasi'}\n"
          ]
        }
      ]
    },
    {
      "cell_type": "code",
      "source": [
        "# Write a code to add a new key-value pair \"country\": \"USA\" to the dictionary {'name': 'John', 'age': 25}.\n",
        "\n",
        "dict={'name':'john','age':25}\n",
        "dict['country']='usa'\n",
        "print(dict)\n",
        "\n"
      ],
      "metadata": {
        "colab": {
          "base_uri": "https://localhost:8080/"
        },
        "id": "meRIh8w2-3-8",
        "outputId": "2ffb7d86-e400-41be-f88a-82637bee9f8e"
      },
      "execution_count": 30,
      "outputs": [
        {
          "output_type": "stream",
          "name": "stdout",
          "text": [
            "{'name': 'john', 'age': 25, 'country': 'usa'}\n"
          ]
        }
      ]
    },
    {
      "cell_type": "code",
      "source": [
        "# Write a code to access the value associated with the key \"name\" in the dictionary {'name': 'Alice', 'age': 30}.\n",
        "\n",
        "dict={'name':'alice','age':30}\n",
        "print(dict['name'])\n"
      ],
      "metadata": {
        "colab": {
          "base_uri": "https://localhost:8080/"
        },
        "id": "-EpAHx5m_B1T",
        "outputId": "8eaa66ea-4afa-41fc-c329-651ea3172e84"
      },
      "execution_count": 31,
      "outputs": [
        {
          "output_type": "stream",
          "name": "stdout",
          "text": [
            "alice\n"
          ]
        }
      ]
    },
    {
      "cell_type": "code",
      "source": [
        " # Write a code to remove the key \"age\" from the dictionary {'name': 'Bob', 'age': 22, 'city': 'New York'}.\n",
        "\n",
        " dict={'name':'bob','age':22,'city':'new york'}\n",
        " dict.pop('age')\n",
        " print(dict)"
      ],
      "metadata": {
        "colab": {
          "base_uri": "https://localhost:8080/"
        },
        "id": "5qepF33N_QFC",
        "outputId": "8e88767b-ef9d-4992-e78f-0aa231e3f69a"
      },
      "execution_count": 33,
      "outputs": [
        {
          "output_type": "stream",
          "name": "stdout",
          "text": [
            "{'name': 'bob', 'city': 'new york'}\n"
          ]
        }
      ]
    },
    {
      "cell_type": "code",
      "source": [
        "# Write a code to check if the key \"city\" exists in the dictionary {'name': 'Alice', 'city': 'Paris'}.\n",
        "\n",
        "dict={'name':'alice','city':'paris'}\n",
        "print('city' in dict)"
      ],
      "metadata": {
        "colab": {
          "base_uri": "https://localhost:8080/"
        },
        "id": "iYsYnv-N_hz_",
        "outputId": "c8c6d376-a60a-428f-8fc9-e18561e1471e"
      },
      "execution_count": 34,
      "outputs": [
        {
          "output_type": "stream",
          "name": "stdout",
          "text": [
            "True\n"
          ]
        }
      ]
    },
    {
      "cell_type": "code",
      "source": [
        "#Write a code to create a list, a tuple, and a dictionary, and print them all.\n",
        "\n",
        "list=[1,2,3,4]\n",
        "print(list)\n",
        "tuple=(1,2,3,4)\n",
        "print(tuple)\n",
        "dict={'name':'raj','age':22}\n",
        "print(dict)"
      ],
      "metadata": {
        "colab": {
          "base_uri": "https://localhost:8080/"
        },
        "id": "H4IMiR1GBTrN",
        "outputId": "762967dc-8f95-41c7-a506-bb491a757335"
      },
      "execution_count": 42,
      "outputs": [
        {
          "output_type": "stream",
          "name": "stdout",
          "text": [
            "[1, 2, 3, 4]\n",
            "(1, 2, 3, 4)\n",
            "{'name': 'raj', 'age': 22}\n"
          ]
        }
      ]
    },
    {
      "cell_type": "code",
      "source": [
        "#Write a code to create a list of 5 random numbers between 1 and 100, sort it in ascending order, and print the result.\n",
        "\n",
        "import random\n",
        "list=[]\n",
        "for i in range(5):\n",
        "    list.append(random.randint(1,100))\n",
        "list.sort()\n",
        "print(list)\n",
        "\n",
        "\n",
        "\n"
      ],
      "metadata": {
        "colab": {
          "base_uri": "https://localhost:8080/"
        },
        "id": "o92MaVJaBd15",
        "outputId": "beeee8c2-0531-46e1-e834-2249ba9a028c"
      },
      "execution_count": 43,
      "outputs": [
        {
          "output_type": "stream",
          "name": "stdout",
          "text": [
            "[20, 78, 81, 87, 94]\n"
          ]
        }
      ]
    },
    {
      "cell_type": "code",
      "source": [
        "# Write a code to create a list with strings and print the element at the third index.\n",
        "\n",
        "list=['a','b','c','d','e']\n",
        "print(list[3])\n",
        "\n"
      ],
      "metadata": {
        "colab": {
          "base_uri": "https://localhost:8080/"
        },
        "id": "n0oq2jrTEBJi",
        "outputId": "be998700-c889-4c1f-d317-2becfa5491d2"
      },
      "execution_count": 44,
      "outputs": [
        {
          "output_type": "stream",
          "name": "stdout",
          "text": [
            "d\n"
          ]
        }
      ]
    },
    {
      "cell_type": "code",
      "source": [
        " # Write a code to combine two dictionaries into one and print the result.\n",
        "\n",
        " dict1={'a':1,'b':2}\n",
        " dict2={'c':3,'d':4}\n",
        " dict3=dict1.copy()\n",
        " dict3.update(dict2)\n",
        " print(dict3)"
      ],
      "metadata": {
        "colab": {
          "base_uri": "https://localhost:8080/"
        },
        "id": "XIWGGwrwEX0N",
        "outputId": "757c9251-e4c0-4b46-d0c0-64735bcf2213"
      },
      "execution_count": 45,
      "outputs": [
        {
          "output_type": "stream",
          "name": "stdout",
          "text": [
            "{'a': 1, 'b': 2, 'c': 3, 'd': 4}\n"
          ]
        }
      ]
    },
    {
      "cell_type": "code",
      "source": [
        " #Write a code to convert a list of strings into a set.\n",
        "\n",
        " list=['a','b','c','d']\n",
        " set=set(list)\n",
        " print(set)"
      ],
      "metadata": {
        "colab": {
          "base_uri": "https://localhost:8080/"
        },
        "id": "gK11L_2iEp-o",
        "outputId": "e30327ec-9e0c-421e-a49c-a400359ed71b"
      },
      "execution_count": 1,
      "outputs": [
        {
          "output_type": "stream",
          "name": "stdout",
          "text": [
            "{'d', 'a', 'c', 'b'}\n"
          ]
        }
      ]
    }
  ]
}