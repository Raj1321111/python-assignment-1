{
 "cells": [
  {
   "cell_type": "markdown",
   "id": "2b7b1393",
   "metadata": {},
   "source": [
    "What are pre-defined keywords in Python?\n",
    "# predefined keywords are special reserve keywords that have their own meaning and work .ex(if,else,true,break,etc...)"
   ]
  },
  {
   "cell_type": "markdown",
   "id": "9ba5c249",
   "metadata": {},
   "source": [
    "Can keywords be used as variable ?\n",
    "# no they are a part of syntax and you cannot use keywords as variable as they have their own meaning.if used python will throw an error.\n"
   ]
  },
  {
   "cell_type": "markdown",
   "id": "960e07b5",
   "metadata": {},
   "source": [
    " What is Python, and why is it popular?\n",
    "#  python is an progrmming language used by every individual,it is a begginer friendly language as its syntax is not compex than any other language \n",
    "#  developed by guidovan rossum. \n",
    "# python is popular for its versatiity and real world problem solving.\n",
    "\n"
   ]
  },
  {
   "cell_type": "markdown",
   "id": "a9baa93e",
   "metadata": {},
   "source": [
    " What is an interpreter in Python?\n",
    " # it is a program that translate and execute the code line by line and help to find that there is a error present in the code.\n",
    " # interpreter is slow as compare to compiler (c++,c)"
   ]
  },
  {
   "cell_type": "markdown",
   "id": "b3570062",
   "metadata": {},
   "source": [
    "what is mutability in python?\n",
    "# it means that the value of the object can be changed after it is created.(changeable) ex list,dictonaries,sets ,etc..."
   ]
  },
  {
   "cell_type": "markdown",
   "id": "a3cd7284",
   "metadata": {},
   "source": [
    "Why are lists mutable, but tuples are immutable?\n",
    "# tuples store fixed collections of item or order collection of heterogenous value. once it is created the elements can never be changed.\n",
    "# list store flexible values and it can be altered or updated python allow you to make changes in the element."
   ]
  },
  {
   "cell_type": "markdown",
   "id": "e61503a1",
   "metadata": {},
   "source": [
    "What is the difference between == and is operators in Python?\n",
    "# (==) this operator is used to show equality . ex 3==3 which is true.\n",
    "# is operator is used to tell the memory location of teo variable."
   ]
  },
  {
   "cell_type": "markdown",
   "id": "8e6e357a",
   "metadata": {},
   "source": [
    "What are logical operators in Python?\n",
    "# used to make logic in conditional statement .it consist of and,or,not.\n",
    "# and = Returns True if both conditions are True.\n",
    "# or = Returns True if at least one condition is True.\n",
    "# not = Reverses the result (True becomes False, False becomes True)"
   ]
  },
  {
   "cell_type": "markdown",
   "id": "af66251e",
   "metadata": {},
   "source": [
    "What is type casting in Python?\n",
    "# conversion of one data type to another is called type casting . ex cnverting string to integer,float to integer, etc.."
   ]
  },
  {
   "cell_type": "markdown",
   "id": "3f84f325",
   "metadata": {},
   "source": [
    "What is the difference between implicit and explicit type casting?\n",
    "# implicit casting is done by python only there is nothing to be done from user side .ex python\n",
    "# explicit casting is done manually by the user to make the conversion happend as the program is not instructed to do it by itself.ex c++,c"
   ]
  },
  {
   "cell_type": "markdown",
   "id": "e635f269",
   "metadata": {},
   "source": [
    "What is the purpose of conditional statements in Python?\n",
    "# conditional statement is used to make decision in program.the program execute cetain code till the condition meet is true.ex if,elif,else."
   ]
  },
  {
   "cell_type": "markdown",
   "id": "279e926c",
   "metadata": {},
   "source": [
    "How does the elif statement work?\n",
    "# it check multiple condition one by one, starting with the if condition IF the condition is false then python move to elif code if the elif is true than block of code is executed and we get the desired output."
   ]
  },
  {
   "cell_type": "markdown",
   "id": "128bf024",
   "metadata": {},
   "source": [
    "What is the difference between for and while loops?\n",
    "# for loop = when we know how many times to loop.iterates over a sequence (like list, range).\n",
    "# while loop=when we don’t know how many times, but depend on a condition.Repeats while a condition is true."
   ]
  },
  {
   "cell_type": "markdown",
   "id": "2fdd836c",
   "metadata": {},
   "source": [
    "Describe a scenario where a while loop is more suitable than a for loop?\n",
    "# a while loop is suitable when the number of repetitions is unknown and depends on a condition.\n",
    "# ex keep asking the input from the user until the user just exit from the program."
   ]
  },
  {
   "cell_type": "code",
   "execution_count": null,
   "id": "d177019a",
   "metadata": {},
   "outputs": [],
   "source": [
    "print(\"HELLO WORLD!\")\n",
    "print\n"
   ]
  },
  {
   "cell_type": "code",
   "execution_count": null,
   "id": "75de887b",
   "metadata": {},
   "outputs": [],
   "source": [
    "name=(\"raj\")\n",
    "age=22\n",
    "print(name,age)"
   ]
  },
  {
   "cell_type": "code",
   "execution_count": null,
   "id": "5989af4a",
   "metadata": {},
   "outputs": [],
   "source": [
    "keywords_list=keyword.kwlist\n",
    "print(\"python keywords are:\")\n",
    "for kw in keywords_list:\n",
    "    print(kw)"
   ]
  },
  {
   "cell_type": "code",
   "execution_count": null,
   "id": "92b08d53",
   "metadata": {},
   "outputs": [],
   "source": [
    "# Program to perform basic arithmetic operations\n",
    "\n",
    "num1 = float(input(\"Enter first number: \"))\n",
    "num2 = float(input(\"Enter second number: \"))\n",
    "\n",
    "# Performing operations\n",
    "print(\"Addition:\", num1 + num2)\n",
    "print(\"Subtraction:\", num1 - num2)\n",
    "print(\"Multiplication:\", num1 * num2)\n",
    "\n",
    "# Division with check to avoid divide-by-zero error\n",
    "if num2 != 0:\n",
    "    print(\"Division:\", num1 / num2)\n",
    "else:\n",
    "    print(\"Division: Cannot divide by zero\")\n"
   ]
  },
  {
   "cell_type": "code",
   "execution_count": null,
   "id": "f4f5b9c4",
   "metadata": {},
   "outputs": [],
   "source": [
    "# Program to demonstrate logical operators\n",
    "\n",
    "a = True\n",
    "b = False\n",
    "\n",
    "# Using AND operator\n",
    "print(\"a and b:\")   # True only if both are True\n",
    "\n",
    "# Using OR operator\n",
    "print(\"a or b:\")     # True if at least one is True\n",
    "\n",
    "# Using NOT operator\n",
    "print(\"not a:\")       # Inverts the value of a\n",
    "print(\"not b:\")       # Inverts the value of b"
   ]
  },
  {
   "cell_type": "code",
   "execution_count": null,
   "id": "2db96c44",
   "metadata": {},
   "outputs": [],
   "source": [
    "# Program to check if a number is positive, negative, or zero\n",
    "\n",
    "num = float(input(\"Enter a number: \"))\n",
    "\n",
    "# Checking conditions\n",
    "if num > 0:\n",
    "    print(\"The number is Positive\")\n",
    "elif num < 0:\n",
    "    print(\"The number is Negative\")\n",
    "else:\n",
    "    print(\"The number is Zero\")\n"
   ]
  },
  {
   "cell_type": "code",
   "execution_count": null,
   "id": "32dd03c7",
   "metadata": {},
   "outputs": [],
   "source": [
    "# Program to print numbers from 1 to 10 using for loop\n",
    "\n",
    "for i in range(1, 11):\n",
    "    print(i)\n"
   ]
  },
  {
   "cell_type": "code",
   "execution_count": null,
   "id": "f4efcace",
   "metadata": {},
   "outputs": [],
   "source": [
    "# Program to find the sum of all even numbers between 1 and 50\n",
    "\n",
    "total = 0\n",
    "\n",
    "for i in range(1, 51):   # loop from 1 to 50\n",
    "    if i % 2 == 0:       # check if number is even\n",
    "        total += i\n",
    "\n",
    "print(\"Sum of even numbers from 1 to 50 is:\", total)\n"
   ]
  },
  {
   "cell_type": "code",
   "execution_count": null,
   "id": "16b881cb",
   "metadata": {},
   "outputs": [],
   "source": [
    "# Factorial using loop\n",
    "num = int(input(\"Enter a number: \"))\n",
    "factorial = 1\n",
    "\n",
    "for i in range(1, num + 1):\n",
    "    factorial *= i\n",
    "\n",
    "print(\"The factorial of\", num, \"is\", factorial)\n"
   ]
  }
 ],
 "metadata": {
  "language_info": {
   "name": "python"
  }
 },
 "nbformat": 4,
 "nbformat_minor": 5
}
